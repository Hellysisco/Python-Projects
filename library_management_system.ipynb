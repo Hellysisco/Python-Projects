{
 "cells": [
  {
   "cell_type": "markdown",
   "id": "09e229db-2e2a-4e22-b83f-9b2434e4a08f",
   "metadata": {},
   "source": [
    "# LIBRARY MANAGEMENT SYSTEM"
   ]
  },
  {
   "cell_type": "markdown",
   "id": "74597f97-8be8-4064-95cc-bae51f856ddb",
   "metadata": {},
   "source": [
    "Presenting a Comprehensive Project in Developing a Library Management System Using Python...\n",
    "\n",
    "As a python programmer, this project involves developing softtware for a library management system. The goal of this project is aimed at developing a library management system that will efficiently store, organize and manage the books in the library."
   ]
  },
  {
   "cell_type": "markdown",
   "id": "125a70a0-c035-4a8e-96d1-503739518c3a",
   "metadata": {},
   "source": [
    "__By: Musimbi Francis__"
   ]
  },
  {
   "cell_type": "markdown",
   "id": "a5d48ef8-db6e-4c48-a4e6-958ca72e9f97",
   "metadata": {},
   "source": [
    "musimbifrancis5@gmail.com"
   ]
  },
  {
   "cell_type": "markdown",
   "id": "c906ec20-cf2d-4b5e-a7f1-810062d9023a",
   "metadata": {},
   "source": [
    "3rd April, 2025."
   ]
  },
  {
   "cell_type": "markdown",
   "id": "7859be11-38bf-441f-92ae-f4ea2d26ef68",
   "metadata": {},
   "source": [
    "------------------------------------------------------------------"
   ]
  },
  {
   "cell_type": "markdown",
   "id": "ba858de0-c089-493c-9187-fee41d021b89",
   "metadata": {},
   "source": [
    "### _**IMPORT LIBRARY**_"
   ]
  },
  {
   "cell_type": "code",
   "execution_count": 1,
   "id": "2611899d-1e89-4d01-ba2c-df76348e3859",
   "metadata": {},
   "outputs": [],
   "source": [
    "# Importing necessary libraries\n",
    "import datetime"
   ]
  },
  {
   "cell_type": "markdown",
   "id": "6c4af5e8-6a3d-4ec9-9860-86c21e279b19",
   "metadata": {},
   "source": [
    "Explanation: Using datetime to manipulate and format date and time"
   ]
  },
  {
   "cell_type": "markdown",
   "id": "d8be825d-8b9b-4730-ad31-c4b27a936d88",
   "metadata": {},
   "source": [
    "### _**DEFINING DATA STRUCTURES**_"
   ]
  },
  {
   "cell_type": "code",
   "execution_count": 2,
   "id": "6d92edb7-b148-42b3-9d49-9b1a9d7f2521",
   "metadata": {},
   "outputs": [],
   "source": [
    "# List of books in the library\n",
    "library_books = []\n",
    "\n",
    "# Dictionary to store borrowed books\n",
    "borrowed_books = {}\n",
    "\n",
    "# List of users\n",
    "users = []"
   ]
  },
  {
   "cell_type": "markdown",
   "id": "4cd21ae0-cf2a-43e8-8b69-94643a297f85",
   "metadata": {},
   "source": [
    "Explanation: Using list data type to store library books and users because of its versatility. Using dictionary data type to store borrowed books because it allows the storing and retrieval of data values."
   ]
  },
  {
   "cell_type": "markdown",
   "id": "f47945cf-f7ae-49ee-9fc5-c3f0e0d06b4f",
   "metadata": {},
   "source": [
    "### _**DEFINING FUNCTIONS**_"
   ]
  },
  {
   "cell_type": "markdown",
   "id": "893d306c-e422-44e8-8b93-f6a077810e9b",
   "metadata": {},
   "source": [
    "1. Function to Add a Book to the Library"
   ]
  },
  {
   "cell_type": "code",
   "execution_count": 3,
   "id": "c5fa2893-2b3f-45aa-890a-860e77140522",
   "metadata": {},
   "outputs": [],
   "source": [
    "# Function to add a new book to the library\n",
    "def add_book(book_id, title, author):\n",
    "    book = {\n",
    "        \"book_id\": book_id,\n",
    "        \"title\": title,\n",
    "        \"author\": author,\n",
    "        \"available\": True\n",
    "    }\n",
    "    library_books.append(book) # Add the book to the library_books list\n",
    "    print(f\"Book '{title}' by {author} added to the library.\")"
   ]
  },
  {
   "cell_type": "markdown",
   "id": "2ef6f627-0f2e-4b58-b1ac-6f5fdeeb31b8",
   "metadata": {},
   "source": [
    "2. Function to Search for a Book"
   ]
  },
  {
   "cell_type": "code",
   "execution_count": 4,
   "id": "59881b5a-7142-474f-8b9b-39476f4cf574",
   "metadata": {},
   "outputs": [],
   "source": [
    "def search_book(title):\n",
    "    #Search for books in the library that match the given title (case=insensitive)\n",
    "    found_books = [\n",
    "        book for book in library_books\n",
    "        if title.lower() in book[\"title\"].lower()\n",
    "    ]\n",
    "\n",
    "    if found_books:\n",
    "        # Iterate through the found books and print their details\n",
    "        for book in found_books:\n",
    "            status = \"Available\" if book[\"available\"] else \"Borrowed\"\n",
    "            print(\n",
    "                f\"ID: {book['book_id']}, Title: {book['title']}, \"\n",
    "                f\"Author: {book['author']}, Status: {status}\"\n",
    "            )\n",
    "    else:\n",
    "        print(\"No books found with that title.\")"
   ]
  },
  {
   "cell_type": "markdown",
   "id": "6e294c2a-df22-4f92-a4fb-05bd5529338d",
   "metadata": {},
   "source": [
    "3. Function to Borrow a Book"
   ]
  },
  {
   "cell_type": "code",
   "execution_count": 5,
   "id": "c90f5cf6-36c6-4746-9034-bbbfd856e1f0",
   "metadata": {},
   "outputs": [],
   "source": [
    "def borrow_book(user, book_id):\n",
    "    # Check if the specified book is available and mark it as borrowed\n",
    "    for book in library_books:\n",
    "        if book[\"book_id\"] == book_id and book[\"available\"]:\n",
    "            book[\"available\"] = False # Mark the book as unavailable\n",
    "            borrowed_books[book_id] = {\n",
    "                \"user\": user,\n",
    "                \"borrow_date\": datetime.date.today() # Record the borrow date\n",
    "            }\n",
    "            print(f\"Book '{book['title']}' borrowed by {user}.\")\n",
    "            return\n",
    "        print(\"Book not available or does not exist.\")"
   ]
  },
  {
   "cell_type": "markdown",
   "id": "0c7cd761-53a1-47de-a0cf-4d6e7db84319",
   "metadata": {},
   "source": [
    "4. Function to Return a Book"
   ]
  },
  {
   "cell_type": "code",
   "execution_count": 6,
   "id": "3dab495e-4031-437a-87f7-4e217e251ff5",
   "metadata": {},
   "outputs": [],
   "source": [
    "    def return_book(book_id):\n",
    "        # Check if the book is in borrowed_books and mark it as available\n",
    "        if book_id in borrowed_books:\n",
    "            if book[\"book_id\"] == book_id:\n",
    "                book[\"available\"] = True # Mark the book as available\n",
    "                borrowed_books.pop(book_id) # Remove the book from the borrowed_books\n",
    "                print(f\"Book '{book['title']}' returned.\")\n",
    "                return\n",
    "        print(\"Book not found in borrowed books.\")"
   ]
  },
  {
   "cell_type": "markdown",
   "id": "c8cd0e81-0268-4177-8a9e-2b6de4abca05",
   "metadata": {},
   "source": [
    "Explanation: Created functions for Adding, Searching, Borrowing and Returning books."
   ]
  },
  {
   "cell_type": "markdown",
   "id": "8cb4bc6e-65cb-4c26-8730-89d97e0e9ca6",
   "metadata": {},
   "source": [
    "------------------------------------------------------------------------------"
   ]
  },
  {
   "cell_type": "markdown",
   "id": "6b54b678-ae5c-492a-8b31-0e8582cc8ff6",
   "metadata": {},
   "source": [
    "### _**IMPLEMENTING USER INTERACTION**_"
   ]
  },
  {
   "cell_type": "code",
   "execution_count": 7,
   "id": "b67def63-7bfe-4003-b72f-5f3d40295f77",
   "metadata": {},
   "outputs": [
    {
     "name": "stdout",
     "output_type": "stream",
     "text": [
      "Library Management System\n",
      "1. Add Book\n",
      "2. Search Book\n",
      "3. Borrow Book\n",
      "4. Return Book\n",
      "5. Exit\n"
     ]
    },
    {
     "name": "stdin",
     "output_type": "stream",
     "text": [
      "Enter your choice:  1\n",
      "Enter book ID:  10001\n",
      "Enter book title:  Harry Potter\n",
      "Enter book author:  J.K Rolland\n"
     ]
    },
    {
     "name": "stdout",
     "output_type": "stream",
     "text": [
      "Book 'Harry Potter' by J.K Rolland added to the library.\n",
      "Library Management System\n",
      "1. Add Book\n",
      "2. Search Book\n",
      "3. Borrow Book\n",
      "4. Return Book\n",
      "5. Exit\n"
     ]
    },
    {
     "name": "stdin",
     "output_type": "stream",
     "text": [
      "Enter your choice:  2\n",
      "Enter book title to search:  The Adventures of Tom Sawyer\n"
     ]
    },
    {
     "name": "stdout",
     "output_type": "stream",
     "text": [
      "No books found with that title.\n",
      "Library Management System\n",
      "1. Add Book\n",
      "2. Search Book\n",
      "3. Borrow Book\n",
      "4. Return Book\n",
      "5. Exit\n"
     ]
    },
    {
     "name": "stdin",
     "output_type": "stream",
     "text": [
      "Enter your choice:  4\n",
      "Enter book ID to return:  10001\n"
     ]
    },
    {
     "name": "stdout",
     "output_type": "stream",
     "text": [
      "Book not found in borrowed books.\n",
      "Library Management System\n",
      "1. Add Book\n",
      "2. Search Book\n",
      "3. Borrow Book\n",
      "4. Return Book\n",
      "5. Exit\n"
     ]
    },
    {
     "name": "stdin",
     "output_type": "stream",
     "text": [
      "Enter your choice:  3\n",
      "Enter your name:  Musimbi Francis\n",
      "Enter book ID to borrow:  10001\n"
     ]
    },
    {
     "name": "stdout",
     "output_type": "stream",
     "text": [
      "Book 'Harry Potter' borrowed by Musimbi Francis.\n",
      "Library Management System\n",
      "1. Add Book\n",
      "2. Search Book\n",
      "3. Borrow Book\n",
      "4. Return Book\n",
      "5. Exit\n"
     ]
    },
    {
     "name": "stdin",
     "output_type": "stream",
     "text": [
      "Enter your choice:  5\n"
     ]
    },
    {
     "name": "stdout",
     "output_type": "stream",
     "text": [
      "Exiting the system. Goodbye!\n"
     ]
    }
   ],
   "source": [
    "    def main():\n",
    "        # Start an infinite loop for the library management system\n",
    "        while True:\n",
    "            print(\"Library Management System\")\n",
    "            print(\"1. Add Book\")\n",
    "            print(\"2. Search Book\")\n",
    "            print(\"3. Borrow Book\")\n",
    "            print(\"4. Return Book\")\n",
    "            print(\"5. Exit\")\n",
    "            choice = input(\"Enter your choice: \")\n",
    "\n",
    "            # Handle user choices for library operations\n",
    "            if choice == '1':\n",
    "                book_id = input(\"Enter book ID: \")\n",
    "                title = input(\"Enter book title: \")\n",
    "                author = input(\"Enter book author: \")\n",
    "                add_book(book_id, title, author)  # Call function to add a new book\n",
    "            elif choice == '2':\n",
    "                title = input(\"Enter book title to search: \")\n",
    "                search_book(title)  # Call function to search for a book\n",
    "            elif choice == '3':\n",
    "                user = input(\"Enter your name: \")\n",
    "                book_id = input(\"Enter book ID to borrow: \")\n",
    "                borrow_book(user, book_id)  # Call function to borrow a book\n",
    "            elif choice == '4':\n",
    "                book_id = input(\"Enter book ID to return: \")\n",
    "                return_book(book_id) # Call function to return a borrowed book\n",
    "            elif choice == '5':\n",
    "                print(\"Exiting the system. Goodbye!\") # Exit message\n",
    "                break # Exit the loop and end the program\n",
    "            else:\n",
    "                print(\"Invalid choice. Please try again.\")  # Handle invalid input\n",
    "# Start the Library Mangement System\n",
    "main()\n",
    "                "
   ]
  },
  {
   "cell_type": "markdown",
   "id": "af030d89-171a-4919-862b-35c3260ca35a",
   "metadata": {},
   "source": [
    "_**Conclusion: Applying the python concepts, as you can see, the Library Management System software is running excellently and efficiently...I was able to add a book, Search for a book, Borrow a book, retun a book and Exit the system**_"
   ]
  },
  {
   "cell_type": "markdown",
   "id": "fc0452c1-a2fb-4e03-9e99-8fcce6f9b6ff",
   "metadata": {},
   "source": [
    "--------------------------------------------------------------------------------------------------------------------------------------------------------------------------"
   ]
  }
 ],
 "metadata": {
  "kernelspec": {
   "display_name": "Python 3 (ipykernel)",
   "language": "python",
   "name": "python3"
  },
  "language_info": {
   "codemirror_mode": {
    "name": "ipython",
    "version": 3
   },
   "file_extension": ".py",
   "mimetype": "text/x-python",
   "name": "python",
   "nbconvert_exporter": "python",
   "pygments_lexer": "ipython3",
   "version": "3.13.1"
  }
 },
 "nbformat": 4,
 "nbformat_minor": 5
}
