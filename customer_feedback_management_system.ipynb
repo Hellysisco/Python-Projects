{
 "cells": [
  {
   "cell_type": "markdown",
   "id": "fdeb450d-573c-4cbb-a9d5-b72ace5b99fb",
   "metadata": {},
   "source": [
    "# Customer Feedback Management System"
   ]
  },
  {
   "cell_type": "markdown",
   "id": "8da8ddb7-10e1-4c89-8e50-d9dcc9306f14",
   "metadata": {},
   "source": [
    "### A Comprehensive Project in Data Collection and Analysis Using Python"
   ]
  },
  {
   "cell_type": "markdown",
   "id": "bc4058e5-c802-4901-882a-3489897588e5",
   "metadata": {},
   "source": [
    "This project involves developing a Customer Feedback Management System aimed at the way customer feedback is collected and analysed\n",
    "The primary goal is to build a system that efficietly gathers customer feedback and provides insightful anallysis to help improve customer service"
   ]
  },
  {
   "cell_type": "markdown",
   "id": "6049ef5f-2eae-416d-9fca-ce90b6256271",
   "metadata": {},
   "source": [
    "### By: Musimbi Francis"
   ]
  },
  {
   "cell_type": "markdown",
   "id": "a606dd78-d4a9-42e7-8bc1-c662653ac188",
   "metadata": {},
   "source": [
    "musimbifrancis5@gmail.com"
   ]
  },
  {
   "cell_type": "markdown",
   "id": "7f18bb1e-22ce-4197-a942-71b15e0dc6fe",
   "metadata": {},
   "source": [
    "24th March, 2025"
   ]
  },
  {
   "cell_type": "markdown",
   "id": "e040df88-df2a-4282-b03b-e3c2ea98fa49",
   "metadata": {},
   "source": [
    "-----------------------------------------------------------------------------------------------------------------------------------------------------"
   ]
  },
  {
   "cell_type": "markdown",
   "id": "24e76239-1d99-45f3-a569-b8be010f03b4",
   "metadata": {},
   "source": [
    "### Step 1: Import Libraries"
   ]
  },
  {
   "cell_type": "code",
   "execution_count": 9,
   "id": "c4c697af-4c36-4e80-9678-3276a24c0d55",
   "metadata": {},
   "outputs": [],
   "source": [
    "# Importing libraries for the project\n",
    "import pandas as pd\n",
    "import csv"
   ]
  },
  {
   "cell_type": "markdown",
   "id": "648992a5-a392-4bca-a77a-34e567bb62b7",
   "metadata": {},
   "source": [
    "### Step 2: Collecting Customer Feedback"
   ]
  },
  {
   "cell_type": "code",
   "execution_count": 10,
   "id": "b72cf973-8eb0-4f52-98fa-7fbabe79649a",
   "metadata": {},
   "outputs": [
    {
     "name": "stdin",
     "output_type": "stream",
     "text": [
      "Enter the first customer's name:  Jonathan\n",
      "Enter the first customer's rating (1-5):  5\n",
      "Enter the first customer's feedback:  Excellent\n",
      "Enter the second customer's name:  David\n",
      "Enter the second customer's rating (1-5):  5\n",
      "Enter the second customer's feedback:  Wonderful\n",
      "Enter the third customer's name:  Miriam\n",
      "Enter the third customer's rating (1-5):  4\n",
      "Enter the third customer's feedback:  excellent\n",
      "Enter the fourth customer's name:  James\n",
      "Enter the fourth customer's rating (1-5):  3\n",
      "Enter the fourth customer's feedback:  I loved the good service\n",
      "Enter the fifth customer's name:  Denis\n",
      "Enter the fifth customer's rating (1-5):  2\n",
      "Enter the fifth customer's feedback:  Fair service\n"
     ]
    }
   ],
   "source": [
    "# Collecting customer feeback data using input function\n",
    "customer_name1 = input(\"Enter the first customer's name: \")\n",
    "customer_rating1 = int(input(\"Enter the first customer's rating (1-5): \"))\n",
    "customer_feedback1 = input(\"Enter the first customer's feedback: \")\n",
    "\n",
    "customer_name2 = input(\"Enter the second customer's name: \")\n",
    "customer_rating2 = int(input(\"Enter the second customer's rating (1-5): \"))\n",
    "customer_feedback2 = input(\"Enter the second customer's feedback: \")\n",
    "\n",
    "customer_name3 = input(\"Enter the third customer's name: \")\n",
    "customer_rating3 = int(input(\"Enter the third customer's rating (1-5): \"))\n",
    "customer_feedback3 = input(\"Enter the third customer's feedback: \")\n",
    "\n",
    "customer_name4 = input(\"Enter the fourth customer's name: \")\n",
    "customer_rating4 = int(input(\"Enter the fourth customer's rating (1-5): \"))\n",
    "customer_feedback4 = input(\"Enter the fourth customer's feedback: \")\n",
    "\n",
    "customer_name5 = input(\"Enter the fifth customer's name: \")\n",
    "customer_rating5 = int(input(\"Enter the fifth customer's rating (1-5): \"))\n",
    "customer_feedback5 = input(\"Enter the fifth customer's feedback: \")\n"
   ]
  },
  {
   "cell_type": "markdown",
   "id": "51ab99a7-edcc-4760-aac6-b4adc22ab757",
   "metadata": {},
   "source": [
    "Explanation: This section collects information from 5 customers including names, rating and feedback."
   ]
  },
  {
   "cell_type": "markdown",
   "id": "d2d3617d-425b-4a90-a86a-eb8ab58f8cd9",
   "metadata": {},
   "source": [
    "### Storing the collected Data"
   ]
  },
  {
   "cell_type": "code",
   "execution_count": 18,
   "id": "5eb0f15c-4646-498d-8d7b-44c6c2bdee80",
   "metadata": {},
   "outputs": [],
   "source": [
    "# Saving the data to a csv file\n",
    "with open('customer_feedback.csv', 'w', newline='') as file:\n",
    "    writer = csv.writer(file)\n",
    "    writer.writerow([\"Name\", \"Rating\", \"Feedback\"])\n",
    "    writer.writerow([customer_name1, customer_rating1, customer_feedback1])\n",
    "    writer.writerow([customer_name2, customer_rating2, customer_feedback2])\n",
    "    writer.writerow([customer_name3, customer_rating3, customer_feedback3])\n",
    "    writer.writerow([customer_name4, customer_rating4, customer_feedback4])\n",
    "    writer.writerow([customer_name5, customer_rating5, customer_feedback5])"
   ]
  },
  {
   "cell_type": "markdown",
   "id": "d98aa03f-7248-4d4f-89d6-4a5bf2bbc6ec",
   "metadata": {},
   "source": [
    "Explanation: Saving all 5 customer's name, rating and feedback to a csv file."
   ]
  },
  {
   "cell_type": "markdown",
   "id": "6d1c630e-8e9f-4da1-afd5-069743da1197",
   "metadata": {},
   "source": [
    "-----------------------------------------------------------------------------------------------------------------------------------------------------"
   ]
  },
  {
   "cell_type": "markdown",
   "id": "b6e5daf0-8827-43f5-8658-e76f39edc6e7",
   "metadata": {},
   "source": [
    "### Reading the Data with Pandas"
   ]
  },
  {
   "cell_type": "code",
   "execution_count": 19,
   "id": "15ead7d0-52d4-485a-8e78-6246bcbbc137",
   "metadata": {},
   "outputs": [
    {
     "name": "stdout",
     "output_type": "stream",
     "text": [
      "       Name  Rating                  Feedback\n",
      "0  Jonathan       5                 Excellent\n",
      "1     David       5                 Wonderful\n",
      "2    Miriam       4                 excellent\n",
      "3     James       3  I loved the good service\n",
      "4     Denis       2              Fair service\n"
     ]
    }
   ],
   "source": [
    "# Reading the data from a csv file\n",
    "df = pd.read_csv('customer_feedback.csv')\n",
    "\n",
    "# Displaying the collected feedback\n",
    "print(df)"
   ]
  },
  {
   "cell_type": "markdown",
   "id": "d181c663-1f98-4498-95e5-1b43b6eadc74",
   "metadata": {},
   "source": [
    "Explanation: This section uses Pandas to read the 5 customer's feedback stored on the csv file, and the print function to display the information."
   ]
  },
  {
   "cell_type": "code",
   "execution_count": 20,
   "id": "c58c5ce3-4d81-4323-9334-5fbef45402bd",
   "metadata": {},
   "outputs": [
    {
     "name": "stdout",
     "output_type": "stream",
     "text": [
      "       Name  Rating                  Feedback\n",
      "0  Jonathan       5                 Excellent\n",
      "1     David       5                 Wonderful\n",
      "2    Miriam       4                 excellent\n",
      "3     James       3  I loved the good service\n",
      "4     Denis       2              Fair service\n",
      "<class 'pandas.core.frame.DataFrame'>\n",
      "RangeIndex: 5 entries, 0 to 4\n",
      "Data columns (total 3 columns):\n",
      " #   Column    Non-Null Count  Dtype \n",
      "---  ------    --------------  ----- \n",
      " 0   Name      5 non-null      object\n",
      " 1   Rating    5 non-null      int64 \n",
      " 2   Feedback  5 non-null      object\n",
      "dtypes: int64(1), object(2)\n",
      "memory usage: 252.0+ bytes\n",
      "None\n"
     ]
    }
   ],
   "source": [
    "# Display the first few rows of the dataset\n",
    "print(df.head())\n",
    "\n",
    "# Display the info of the dataset\n",
    "print(df.info())"
   ]
  },
  {
   "cell_type": "markdown",
   "id": "88fe2ee4-783b-428a-9841-639e8688ad55",
   "metadata": {},
   "source": [
    "Explanation: Displaying the entire Dataframe to review the 5 customer's feedback. It provides a quick and clear overview of the collected data, stating it in rows and headings."
   ]
  },
  {
   "cell_type": "markdown",
   "id": "04aaf701-e5e4-4c78-af6f-0af5a806fd9a",
   "metadata": {},
   "source": [
    "### Step 4: Performing Basic Data Analysis"
   ]
  },
  {
   "cell_type": "code",
   "execution_count": 21,
   "id": "f8615923-673c-4df2-8245-0791babb93b6",
   "metadata": {},
   "outputs": [
    {
     "name": "stdout",
     "output_type": "stream",
     "text": [
      "Average Rating 3.8\n"
     ]
    }
   ],
   "source": [
    "# Calculating total and average ratings\n",
    "total_ratings = df['Rating'].sum()\n",
    "average_rating = total_ratings / len(df)\n",
    "print(\"Average Rating\", average_rating)"
   ]
  },
  {
   "cell_type": "markdown",
   "id": "bc9f21e7-3c6e-4bd6-935e-bf880b46599c",
   "metadata": {},
   "source": [
    "Explanation: This section calculates the total and average ratings of the 5 customer ratings."
   ]
  },
  {
   "cell_type": "markdown",
   "id": "3c310242-0654-4bac-9a7d-55b092baaf16",
   "metadata": {},
   "source": [
    "### Categorizing Customer Feedback"
   ]
  },
  {
   "cell_type": "code",
   "execution_count": 22,
   "id": "385445f7-3a24-40e2-83ae-0c06a0119319",
   "metadata": {},
   "outputs": [],
   "source": [
    "# Categorizing feedback for the first customer\n",
    "if customer_rating1 >= 4 and \"excellent\" in customer_feedback1.lower():\n",
    "    feedback_category1 = \"Very Positive\"\n",
    "elif customer_rating1 >= 4:\n",
    "    feedback_category1 = \"Positive\"\n",
    "elif customer_rating1 == 3:\n",
    "    feedback_category1 = \"Neutral\"\n",
    "else:\n",
    "    feedback_category1 = \"Negative\"\n",
    "# Categorizing feedback for the second customer\n",
    "if customer_rating2 >= 4 and \"excellent\" in customer_feedback2.lower():\n",
    "    feedback_category2 = \"Very Positive\"\n",
    "elif customer_rating2 >= 4:\n",
    "    feedback_category2 = \"Positive\"\n",
    "elif customer_rating2 == 3:\n",
    "    feedback_category2 = \"Neutral\"\n",
    "else:\n",
    "    feedback_category2 = \"Negative\"\n",
    "\n",
    "# Categorizing feedback for the third customer\n",
    "if customer_rating3 >= 4 and \"excellent\" in customer_feedback3.lower():\n",
    "    feedback_category3 = \"Very Positive\"\n",
    "elif customer_rating3 >= 4:\n",
    "    feedback_category3 = \"Positive\"\n",
    "elif customer_rating3 == 3:\n",
    "    feedback_category3 = \"Neutral\"\n",
    "else:\n",
    "    feedback_category3 = \"Negative\"\n",
    "\n",
    "# Categorzsing feedback for the fourth customer\n",
    "if customer_rating4 >= 4 and \"excellent\" in customer_feedback4.lower():\n",
    "    feedback_category4 = \"Very Positive\"\n",
    "elif customer_rating4 >= 4:\n",
    "    feedback_category4 = \"Positive\"\n",
    "elif customer_rating4 == 3:\n",
    "    feedback_category4 = \"Neutral\"\n",
    "else:\n",
    "    feedback_category4 = \"Negative\"\n",
    "\n",
    "# Categorizing feedback for the fifth customer\n",
    "if customer_rating5 >= 4 and \"excellent\" in customer_feedback5.lower():\n",
    "    feedback_category5 = \"Very Positive\"\n",
    "elif customer_rating5 >= 4:\n",
    "    feedback_category5 = \"Positive\"\n",
    "elif customer_rating5 == 3:\n",
    "    feedback_category5 = \"Neutral\"\n",
    "else:\n",
    "    feedback_category5 = \"Negative\""
   ]
  },
  {
   "cell_type": "markdown",
   "id": "8f177c07-1071-484a-9eee-9da31fd38682",
   "metadata": {},
   "source": [
    "Explanation: This section is using the if-elif-else statement to categorize each of the 5 customers feedback thereby providing conditions to accomodate the 5 customers feedback ratings and comments."
   ]
  },
  {
   "cell_type": "code",
   "execution_count": 23,
   "id": "1fd13508-4ec3-4599-a4f6-1fa8d1b4d079",
   "metadata": {},
   "outputs": [
    {
     "name": "stdout",
     "output_type": "stream",
     "text": [
      "Feedback Categories:  ['Very Positive', 'Positive', 'Very Positive', 'Neutral', 'Negative']\n"
     ]
    }
   ],
   "source": [
    "# Categorizing customer feedback and rating\n",
    "feedback_categories = [feedback_category1, feedback_category2, feedback_category3, feedback_category4, feedback_category5]\n",
    "print(\"Feedback Categories: \", feedback_categories)"
   ]
  },
  {
   "cell_type": "markdown",
   "id": "1ec26957-6dae-4ea4-94ab-8c9f7052ea70",
   "metadata": {},
   "source": [
    "Explanation: This section creates a list to collect all the feedback categories from the previous section, separating them with commas. The list data type allows me to mantain the order and multplicity of the customer's feedback."
   ]
  },
  {
   "cell_type": "markdown",
   "id": "776bf7de-ba9b-4b70-ac1a-138137b9d7cb",
   "metadata": {},
   "source": [
    "# Step 5: Analysing Feedback Comments"
   ]
  },
  {
   "cell_type": "code",
   "execution_count": 24,
   "id": "06d08347-e6ba-4a13-bdb7-8c7288a3813f",
   "metadata": {},
   "outputs": [
    {
     "name": "stdout",
     "output_type": "stream",
     "text": [
      "Count of 'service' in first feedback: 0\n",
      "Count of 'service' in second feedback: 0\n",
      "Count of 'service' in third feedback: 0\n",
      "Count of 'service' in fourth feedback: 1\n",
      "Count of 'service' in fifth feedback: 1\n"
     ]
    }
   ],
   "source": [
    "# Analysing feedback comments\n",
    "feedback_words1 = customer_feedback1.lower().split()\n",
    "feedback_words2 = customer_feedback2.lower().split()\n",
    "feedback_words3 = customer_feedback3.lower().split()\n",
    "feedback_words4 = customer_feedback4.lower().split()\n",
    "feedback_words5 = customer_feedback5.lower().split()\n",
    "\n",
    "# Counting occurences of a specific word\n",
    "word_to_count = \"service\"\n",
    "word_count1 = feedback_words1.count(word_to_count)\n",
    "word_count2 = feedback_words2.count(word_to_count)\n",
    "word_count3 = feedback_words3.count(word_to_count)\n",
    "word_count4 = feedback_words4.count(word_to_count)\n",
    "word_count5 = feedback_words5.count(word_to_count)\n",
    "\n",
    "\n",
    "print(f\"Count of '{word_to_count}' in first feedback:\", word_count1)\n",
    "print(f\"Count of '{word_to_count}' in second feedback:\", word_count2)\n",
    "print(f\"Count of '{word_to_count}' in third feedback:\", word_count3)\n",
    "print(f\"Count of '{word_to_count}' in fourth feedback:\", word_count4)\n",
    "print(f\"Count of '{word_to_count}' in fifth feedback:\", word_count5)"
   ]
  },
  {
   "cell_type": "markdown",
   "id": "f7eb33ef-3f93-4adb-b61d-46cd3c7fa271",
   "metadata": {},
   "source": [
    "Explanation:\n",
    "\n",
    "_The first part of this section converts the 5 customer feedback text to lowwercase letters. This is done to ensure that the analysis is case insensitive. Also, the .split() function separates the lowwercase text into individual words.\n",
    "\n",
    "_The second part is to count the occurence of the word \"service\" in each of the customers feedback comments.\n",
    "\n",
    "_The final part uses the f-string format to print out each customers feedback output, which provides a clear and readable output which makes it easy to understand the result."
   ]
  },
  {
   "cell_type": "markdown",
   "id": "1c6711fa-3a1b-4e94-9a52-05d8251875ab",
   "metadata": {},
   "source": [
    "-----------------------------------------------------------------------------------------------------------------------------------------------------"
   ]
  }
 ],
 "metadata": {
  "kernelspec": {
   "display_name": "Python 3 (ipykernel)",
   "language": "python",
   "name": "python3"
  },
  "language_info": {
   "codemirror_mode": {
    "name": "ipython",
    "version": 3
   },
   "file_extension": ".py",
   "mimetype": "text/x-python",
   "name": "python",
   "nbconvert_exporter": "python",
   "pygments_lexer": "ipython3",
   "version": "3.13.1"
  }
 },
 "nbformat": 4,
 "nbformat_minor": 5
}
